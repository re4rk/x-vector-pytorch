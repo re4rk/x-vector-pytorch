{
 "cells": [
  {
   "cell_type": "code",
   "execution_count": 1,
   "metadata": {},
   "outputs": [],
   "source": [
    "f = open(\"./log/2022_11_20_20_30_Detail.txt\")"
   ]
  },
  {
   "cell_type": "code",
   "execution_count": 4,
   "metadata": {},
   "outputs": [
    {
     "ename": "AttributeError",
     "evalue": "'_io.TextIOWrapper' object has no attribute 'readuntil'",
     "output_type": "error",
     "traceback": [
      "\u001b[0;31m---------------------------------------------------------------------------\u001b[0m",
      "\u001b[0;31mAttributeError\u001b[0m                            Traceback (most recent call last)",
      "\u001b[1;32m/home/sysmate/research/x-vector-pytorch/bit_analysis.ipynb 셀 2\u001b[0m in \u001b[0;36m<cell line: 1>\u001b[0;34m()\u001b[0m\n\u001b[0;32m----> <a href='vscode-notebook-cell://ssh-remote%2Bai/home/sysmate/research/x-vector-pytorch/bit_analysis.ipynb#W1sdnNjb2RlLXJlbW90ZQ%3D%3D?line=0'>1</a>\u001b[0m f\u001b[39m.\u001b[39;49mreaduntil(\u001b[39m\"\u001b[39m\u001b[39m-----------------Epoch \u001b[39m\u001b[39m\"\u001b[39m)\n\u001b[1;32m      <a href='vscode-notebook-cell://ssh-remote%2Bai/home/sysmate/research/x-vector-pytorch/bit_analysis.ipynb#W1sdnNjb2RlLXJlbW90ZQ%3D%3D?line=1'>2</a>\u001b[0m a \u001b[39m=\u001b[39m f\u001b[39m.\u001b[39mreaduntil(\u001b[39m\"\u001b[39m\u001b[39m-----------------\u001b[39m\u001b[39m\"\u001b[39m)\u001b[39m.\u001b[39mreplace(\u001b[39m\"\u001b[39m\u001b[39m-\u001b[39m\u001b[39m\"\u001b[39m,\u001b[39m\"\u001b[39m\u001b[39m\"\u001b[39m)\u001b[39m.\u001b[39mtoint()\n\u001b[1;32m      <a href='vscode-notebook-cell://ssh-remote%2Bai/home/sysmate/research/x-vector-pytorch/bit_analysis.ipynb#W1sdnNjb2RlLXJlbW90ZQ%3D%3D?line=2'>3</a>\u001b[0m \u001b[39mprint\u001b[39m(a)\n",
      "\u001b[0;31mAttributeError\u001b[0m: '_io.TextIOWrapper' object has no attribute 'readuntil'"
     ]
    }
   ],
   "source": [
    "f.readuntil(\"-----------------Epoch \")\n",
    "a = f.readuntil(\"-----------------\").replace(\"-\",\"\").toint()\n",
    "print(a)\n"
   ]
  },
  {
   "cell_type": "code",
   "execution_count": 3,
   "metadata": {},
   "outputs": [],
   "source": [
    "from pwn import *"
   ]
  },
  {
   "cell_type": "code",
   "execution_count": 5,
   "metadata": {},
   "outputs": [],
   "source": [
    "file_contents = f.readlines()"
   ]
  },
  {
   "cell_type": "code",
   "execution_count": 18,
   "metadata": {},
   "outputs": [],
   "source": []
  },
  {
   "cell_type": "code",
   "execution_count": 36,
   "metadata": {},
   "outputs": [],
   "source": [
    "with open(\"./log/2022_11_20_20_30_Detail_sorted.csv\",\"w\") as f:\n",
    "    pass\n",
    "\n",
    "save_key = []\n",
    "save_pred = []\n",
    "title = \"\"\n",
    "\n",
    "maxline = 1000\n",
    "\n",
    "for i in range(len(file_contents)):\n",
    "    line = file_contents[i]\n",
    "    if(\"Epoch\" in line):\n",
    "        title = line\n",
    "        continue\n",
    "    line_split = line.split(\":\")\n",
    "    if len(line_split) != 2:\n",
    "        continue\n",
    "    if \"keys\" in line_split[0]:\n",
    "        save_key.append(line_split[1].strip())\n",
    "    if \"preds\" in line_split[0]:\n",
    "        save_pred.append(line_split[1].strip())\n",
    "    if(len(save_pred) == maxline):\n",
    "        open(\"./log/2022_11_20_20_30_Detail_sorted.csv\", \"a\").write(title.replace('\\n','')+\",\" + \",\".join(save_key)+ \"\\n\")\n",
    "        open(\"./log/2022_11_20_20_30_Detail_sorted.csv\", \"a\").write(title.replace('\\n','')+\",\" + \",\".join(save_pred) + \"\\n\")\n",
    "        save_key = []\n",
    "        save_pred = []\n",
    "        title = []\n",
    "        maxline = 100 if (maxline == 1000) else 1000\n"
   ]
  },
  {
   "cell_type": "code",
   "execution_count": null,
   "metadata": {},
   "outputs": [],
   "source": []
  }
 ],
 "metadata": {
  "kernelspec": {
   "display_name": "Python 3.9.12 ('base')",
   "language": "python",
   "name": "python3"
  },
  "language_info": {
   "codemirror_mode": {
    "name": "ipython",
    "version": 3
   },
   "file_extension": ".py",
   "mimetype": "text/x-python",
   "name": "python",
   "nbconvert_exporter": "python",
   "pygments_lexer": "ipython3",
   "version": "3.9.12"
  },
  "orig_nbformat": 4,
  "vscode": {
   "interpreter": {
    "hash": "6bcb5cb247d89ced0608e588b2cce1c3da0f8550c83cac0a461e978202a0fb7a"
   }
  }
 },
 "nbformat": 4,
 "nbformat_minor": 2
}
