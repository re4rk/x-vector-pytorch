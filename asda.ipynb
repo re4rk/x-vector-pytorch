{
 "cells": [
  {
   "cell_type": "code",
   "execution_count": 1,
   "metadata": {},
   "outputs": [],
   "source": [
    "import os\n",
    "import numpy as np\n",
    "import glob\n",
    "import argparse"
   ]
  },
  {
   "cell_type": "code",
   "execution_count": 1,
   "metadata": {},
   "outputs": [],
   "source": [
    "# get folders in the folder\n",
    "def get_folders(path):\n",
    "    folders = []\n",
    "    for name in os.listdir(path):\n",
    "        if os.path.isdir(os.path.join(path, name)):\n",
    "            folders.append(name)\n",
    "    return folders"
   ]
  },
  {
   "cell_type": "code",
   "execution_count": 2,
   "metadata": {},
   "outputs": [
    {
     "name": "stdout",
     "output_type": "stream",
     "text": [
      "['id10299', 'id10270', 'id10283', 'id10271', 'id10277', 'id10288', 'id10280', 'id10308', 'id10304', 'id10293', 'id10272', 'id10301', 'id10297', 'id10302', 'id10289', 'id10292', 'id10281', 'id10276', 'id10290', 'id10291', 'id10307', 'id10282', 'id10296', 'id10306', 'id10284', 'id10275', 'id10287', 'id10274', 'id10300', 'id10273', 'id10286', 'id10294', 'id10285', 'id10279', 'id10298', 'id10309', 'id10278', 'id10305', 'id10303', 'id10295']\n"
     ]
    }
   ],
   "source": [
    "print(get_folders(\"../vox1_test_wav/\"))"
   ]
  },
  {
   "cell_type": "code",
   "execution_count": 7,
   "metadata": {},
   "outputs": [
    {
     "data": {
      "text/plain": [
       "['../vox1_test_wav/id10299/',\n",
       " '../vox1_test_wav/id10270/',\n",
       " '../vox1_test_wav/id10283/',\n",
       " '../vox1_test_wav/id10271/',\n",
       " '../vox1_test_wav/id10277/',\n",
       " '../vox1_test_wav/id10288/',\n",
       " '../vox1_test_wav/id10280/',\n",
       " '../vox1_test_wav/id10308/',\n",
       " '../vox1_test_wav/id10304/',\n",
       " '../vox1_test_wav/id10293/',\n",
       " '../vox1_test_wav/id10272/',\n",
       " '../vox1_test_wav/id10301/',\n",
       " '../vox1_test_wav/id10297/',\n",
       " '../vox1_test_wav/id10302/',\n",
       " '../vox1_test_wav/id10289/',\n",
       " '../vox1_test_wav/id10292/',\n",
       " '../vox1_test_wav/id10281/',\n",
       " '../vox1_test_wav/id10276/',\n",
       " '../vox1_test_wav/id10290/',\n",
       " '../vox1_test_wav/id10291/',\n",
       " '../vox1_test_wav/id10307/',\n",
       " '../vox1_test_wav/id10282/',\n",
       " '../vox1_test_wav/id10296/',\n",
       " '../vox1_test_wav/id10306/',\n",
       " '../vox1_test_wav/id10284/',\n",
       " '../vox1_test_wav/id10275/',\n",
       " '../vox1_test_wav/id10287/',\n",
       " '../vox1_test_wav/id10274/',\n",
       " '../vox1_test_wav/id10300/',\n",
       " '../vox1_test_wav/id10273/',\n",
       " '../vox1_test_wav/id10286/',\n",
       " '../vox1_test_wav/id10294/',\n",
       " '../vox1_test_wav/id10285/',\n",
       " '../vox1_test_wav/id10279/',\n",
       " '../vox1_test_wav/id10298/',\n",
       " '../vox1_test_wav/id10309/',\n",
       " '../vox1_test_wav/id10278/',\n",
       " '../vox1_test_wav/id10305/',\n",
       " '../vox1_test_wav/id10303/',\n",
       " '../vox1_test_wav/id10295/']"
      ]
     },
     "execution_count": 7,
     "metadata": {},
     "output_type": "execute_result"
    }
   ],
   "source": [
    "glob.glob(\"../vox1_test_wav\"+'/*/')"
   ]
  },
  {
   "cell_type": "code",
   "execution_count": null,
   "metadata": {},
   "outputs": [],
   "source": []
  }
 ],
 "metadata": {
  "kernelspec": {
   "display_name": "base",
   "language": "python",
   "name": "python3"
  },
  "language_info": {
   "codemirror_mode": {
    "name": "ipython",
    "version": 3
   },
   "file_extension": ".py",
   "mimetype": "text/x-python",
   "name": "python",
   "nbconvert_exporter": "python",
   "pygments_lexer": "ipython3",
   "version": "3.9.12"
  },
  "orig_nbformat": 4,
  "vscode": {
   "interpreter": {
    "hash": "6bcb5cb247d89ced0608e588b2cce1c3da0f8550c83cac0a461e978202a0fb7a"
   }
  }
 },
 "nbformat": 4,
 "nbformat_minor": 2
}
