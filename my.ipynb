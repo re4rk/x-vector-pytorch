{
 "cells": [
  {
   "cell_type": "code",
   "execution_count": 1,
   "metadata": {},
   "outputs": [],
   "source": [
    "import torch\n",
    "import numpy as np\n",
    "from torch.utils.data import DataLoader   \n",
    "from SpeechDataGenerator import SpeechDataGenerator\n",
    "import torch.nn as nn\n",
    "import os\n",
    "import numpy as np\n",
    "from torch import optim\n",
    "import argparse\n",
    "from models.x_vector_Indian_LID import X_vector\n",
    "from sklearn.metrics import accuracy_score\n",
    "from utils.utils import speech_collate\n",
    "import torch.nn.functional as F\n",
    "torch.multiprocessing.set_sharing_strategy('file_system')\n"
   ]
  },
  {
   "cell_type": "code",
   "execution_count": 2,
   "metadata": {},
   "outputs": [],
   "source": [
    "parser = argparse.ArgumentParser(add_help=False)"
   ]
  },
  {
   "cell_type": "code",
   "execution_count": 3,
   "metadata": {},
   "outputs": [],
   "source": [
    "class Args:\n",
    "    training_filepath = 'meta/training.txt'\n",
    "    testing_filepath = 'meta/testing.txt'\n",
    "    validation_filepath = 'meta/validation.txt'\n",
    "    input_dim = 257\n",
    "    num_classes = 2\n",
    "    lamda_val = 0.1\n",
    "    batch_size = 16\n",
    "    use_gpu = True\n",
    "    num_epochs = 100\n",
    "    mode = \"test\"\n",
    "args=Args()"
   ]
  },
  {
   "cell_type": "code",
   "execution_count": 4,
   "metadata": {},
   "outputs": [
    {
     "name": "stdout",
     "output_type": "stream",
     "text": [
      "device is cuda\n"
     ]
    }
   ],
   "source": [
    "### Data related\n",
    "dataset_train = SpeechDataGenerator(manifest=args.training_filepath,mode='train')\n",
    "dataloader_train = DataLoader(dataset_train, batch_size=args.batch_size,shuffle=True,collate_fn=speech_collate) \n",
    "\n",
    "dataset_val = SpeechDataGenerator(manifest=args.validation_filepath,mode='validation')\n",
    "dataloader_val = DataLoader(dataset_val, batch_size=args.batch_size,shuffle=True,collate_fn=speech_collate) \n",
    "\n",
    "\n",
    "dataset_test = SpeechDataGenerator(manifest=args.testing_filepath,mode='test')\n",
    "dataloader_test = DataLoader(dataset_test, batch_size=args.batch_size,shuffle=True,collate_fn=speech_collate) \n",
    "\n",
    "## Model related\n",
    "use_cuda = torch.cuda.is_available()\n",
    "device = torch.device(\"cuda\" if use_cuda else \"cpu\")\n",
    "print(f\"device is {device}\")\n",
    "model = X_vector(args.input_dim, args.num_classes).to(device)\n",
    "optimizer = optim.Adam(model.parameters(), lr=0.001, weight_decay=0.0, betas=(0.9, 0.98), eps=1e-9)\n",
    "loss_fun = nn.CrossEntropyLoss()\n"
   ]
  },
  {
   "cell_type": "code",
   "execution_count": 5,
   "metadata": {},
   "outputs": [
    {
     "name": "stdout",
     "output_type": "stream",
     "text": [
      "16 257 400\n",
      "16 257 400\n",
      "16 257 400\n",
      "16 257 400\n",
      "16 257 400\n",
      "16 257 400\n",
      "16 257 400\n"
     ]
    }
   ],
   "source": [
    "for i_batch, sample_batched in enumerate(dataloader_train):\n",
    "    print(len(sample_batched[0]), len(sample_batched[0][0]), len(sample_batched[0][0][0]))\n",
    "    if(i_batch == 2): break\n",
    "\n",
    "for i_batch, sample_batched in enumerate(dataloader_test):\n",
    "    print(len(sample_batched[0]), len(sample_batched[0][0]), len(sample_batched[0][0][0]))\n",
    "    if(i_batch == 3): break"
   ]
  },
  {
   "cell_type": "code",
   "execution_count": null,
   "metadata": {},
   "outputs": [],
   "source": [
    "print(len())"
   ]
  }
 ],
 "metadata": {
  "kernelspec": {
   "display_name": "Python 3.9.12 ('base')",
   "language": "python",
   "name": "python3"
  },
  "language_info": {
   "codemirror_mode": {
    "name": "ipython",
    "version": 3
   },
   "file_extension": ".py",
   "mimetype": "text/x-python",
   "name": "python",
   "nbconvert_exporter": "python",
   "pygments_lexer": "ipython3",
   "version": "3.9.12"
  },
  "orig_nbformat": 4,
  "vscode": {
   "interpreter": {
    "hash": "a0abc1c64e7b5cd4b7d79d5c6445c54850ce851485895e9f46c520401ad7b330"
   }
  }
 },
 "nbformat": 4,
 "nbformat_minor": 2
}
