{
 "cells": [
  {
   "cell_type": "code",
   "execution_count": 6,
   "metadata": {},
   "outputs": [],
   "source": [
    "import torch\n",
    "import numpy as np\n",
    "from torch.utils.data import DataLoader   \n",
    "from SpeechDataGenerator import SpeechDataGenerator\n",
    "import torch.nn as nn\n",
    "import os\n",
    "import numpy as np\n",
    "from torch import optim\n",
    "import argparse\n",
    "from models.x_vector_Indian_LID import X_vector\n",
    "from sklearn.metrics import accuracy_score\n",
    "from utils.utils import speech_collate\n",
    "import torch.nn.functional as F"
   ]
  },
  {
   "cell_type": "code",
   "execution_count": 7,
   "metadata": {},
   "outputs": [],
   "source": [
    "### Data related\n",
    "dataset_train = SpeechDataGenerator(manifest='meta/training_feat.txt',mode='train')\n",
    "dataloader_train = DataLoader(dataset_train, num_workers=40, batch_size=256,shuffle=False,collate_fn=speech_collate) "
   ]
  },
  {
   "cell_type": "code",
   "execution_count": 2,
   "metadata": {},
   "outputs": [],
   "source": [
    "class TinyModel(torch.nn.Module):\n",
    "    \n",
    "    def __init__(self,bits = 128, checksum = 4):\n",
    "        super(TinyModel, self).__init__()\n",
    "\n",
    "        self.bits = bits\n",
    "        self.checksum = checksum\n",
    "\n",
    "        self.layer1 = nn.ModuleList([torch.nn.Sigmoid() for i in range(bits // checksum)])\n",
    "        self.linears2 = nn.ModuleList([torch.nn.Linear(checksum, 1) for i in range(bits // checksum)])\n",
    "        self.layer3 = torch.nn.Sigmoid()\n",
    "    def forward(self, x):\n",
    "        out = []\n",
    "        for i in range(self.bits//self.checksum):\n",
    "            xs = self.layer1[i](x[i*self.checksum:(i+1)*self.checksum])\n",
    "            out.append(self.linears2[i](xs))\n",
    "        out = torch.Tensor(out)\n",
    "        out = self.layer3(out)\n",
    "        return out"
   ]
  },
  {
   "cell_type": "code",
   "execution_count": 3,
   "metadata": {},
   "outputs": [],
   "source": [
    "model = TinyModel()"
   ]
  },
  {
   "cell_type": "code",
   "execution_count": 4,
   "metadata": {},
   "outputs": [],
   "source": [
    "optimizer = optim.Adam(model.parameters(), lr=0.001, weight_decay=0.0, betas=(0.9, 0.98), eps=1e-9)\n",
    "loss_fun = nn.CrossEntropyLoss()"
   ]
  },
  {
   "cell_type": "code",
   "execution_count": 5,
   "metadata": {},
   "outputs": [],
   "source": [
    "\n",
    "def train(dataloader_train,epoch):\n",
    "    train_loss_list=[]\n",
    "    full_preds=[]\n",
    "    full_gts=[]\n",
    "    model.train()\n",
    "    for i_batch, sample_batched in enumerate(dataloader_train):\n",
    "    \n",
    "        features = torch.from_numpy(np.asarray([torch_tensor.numpy().T for torch_tensor in sample_batched[0]])).float()\n",
    "        labels = torch.from_numpy(np.asarray([torch_tensor[0].numpy() for torch_tensor in sample_batched[1]]))\n",
    "        features.requires_grad = True\n",
    "        optimizer.zero_grad()\n",
    "        pred_logits,x_vec = model(features)\n",
    "        #### CE loss\n",
    "        loss = loss_fun(pred_logits,labels)\n",
    "        loss.backward()\n",
    "        optimizer.step()\n",
    "        train_loss_list.append(loss.item())\n",
    "        \n",
    "        predictions = np.argmax(pred_logits.detach().cpu().numpy(),axis=1)\n",
    "        for pred in predictions:\n",
    "            full_preds.append(pred)\n",
    "        for lab in labels.detach().cpu().numpy():\n",
    "            full_gts.append(lab)\n",
    "            \n",
    "    mean_acc = accuracy_score(full_gts,full_preds)\n",
    "    mean_loss = np.mean(np.asarray(train_loss_list))\n",
    "    print('Total training loss {} and training Accuracy {} after {} epochs'.format(mean_loss,mean_acc,epoch))"
   ]
  },
  {
   "cell_type": "code",
   "execution_count": null,
   "metadata": {},
   "outputs": [],
   "source": []
  }
 ],
 "metadata": {
  "kernelspec": {
   "display_name": "Python 3.9.12 ('base')",
   "language": "python",
   "name": "python3"
  },
  "language_info": {
   "codemirror_mode": {
    "name": "ipython",
    "version": 3
   },
   "file_extension": ".py",
   "mimetype": "text/x-python",
   "name": "python",
   "nbconvert_exporter": "python",
   "pygments_lexer": "ipython3",
   "version": "3.9.12"
  },
  "orig_nbformat": 4,
  "vscode": {
   "interpreter": {
    "hash": "6bcb5cb247d89ced0608e588b2cce1c3da0f8550c83cac0a461e978202a0fb7a"
   }
  }
 },
 "nbformat": 4,
 "nbformat_minor": 2
}
